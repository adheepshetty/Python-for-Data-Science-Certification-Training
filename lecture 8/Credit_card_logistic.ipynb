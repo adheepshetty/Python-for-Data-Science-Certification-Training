{
 "cells": [
  {
   "cell_type": "code",
   "execution_count": 3,
   "metadata": {},
   "outputs": [],
   "source": [
    "import pandas as pd\n",
    "import numpy as np\n",
    "import scipy.stats as stats\n",
    "import sklearn\n",
    "from sklearn import linear_model\n",
    "from sklearn.linear_model import LinearRegression\n",
    "from sklearn.linear_model import LogisticRegression\n"
   ]
  },
  {
   "cell_type": "code",
   "execution_count": 15,
   "metadata": {},
   "outputs": [
    {
     "name": "stdout",
     "output_type": "stream",
     "text": [
      "    Attrition  Trans_Amt_Oct12   Trans_Amt_Nov12   Trans_Amt_Dec12   \\\n",
      "0           0                24                36               427   \n",
      "1           0                68               227               221   \n",
      "2           0               339               402               489   \n",
      "3           0               298               111               232   \n",
      "4           1               109               243               179   \n",
      "5           1               483               201               371   \n",
      "6           0               494               458               211   \n",
      "7           0               246               204               185   \n",
      "8           0               284               312               444   \n",
      "9           0               301               240               119   \n",
      "10          0               217                89               432   \n",
      "11          1                61               114               346   \n",
      "12          1               439               230               249   \n",
      "13          0               102               324               321   \n",
      "14          0               333               281               140   \n",
      "15          0               216               279                66   \n",
      "16          0               161                12                77   \n",
      "17          1                73               294               260   \n",
      "18          1               421               398               488   \n",
      "19          0               245                49               380   \n",
      "20          0               300               265               313   \n",
      "21          0                82               128               216   \n",
      "22          0               496               186               197   \n",
      "23          0               188               442                88   \n",
      "24          0               123               226               288   \n",
      "25          0                93               355               454   \n",
      "26          0               428               136               419   \n",
      "27          0               126               377                19   \n",
      "28          1               411               365               359   \n",
      "\n",
      "    Trans_Amt_Jan13   Trans_Amt_Feb13   Trans_Amt_Mar13   \n",
      "0                385               493               319  \n",
      "1                 23               232                63  \n",
      "2                375               393               125  \n",
      "3                127               315               246  \n",
      "4                153               257               327  \n",
      "5                167               296               420  \n",
      "6                457                24               115  \n",
      "7                111                15                67  \n",
      "8                238               195               374  \n",
      "9                 94               176                45  \n",
      "10               106                67               430  \n",
      "11               237                81                45  \n",
      "12               269               293               259  \n",
      "13                43               221               182  \n",
      "14               170               256               401  \n",
      "15               109                 4               320  \n",
      "16               167               432                90  \n",
      "17                12               220                 3  \n",
      "18               455               181               158  \n",
      "19               129                84               100  \n",
      "20               286               406               229  \n",
      "21               486                63                87  \n",
      "22               272               482               420  \n",
      "23                71               458               205  \n",
      "24               301               268               118  \n",
      "25                83               488               185  \n",
      "26               126               302                70  \n",
      "27               356               496               100  \n",
      "28               327               411               174  \n"
     ]
    }
   ],
   "source": [
    "df1 = pd.read_csv('C:/Users/IBM_ADMIN/Desktop/CBEC/PPT/Byte/logistic.csv')\n",
    "print(df1)"
   ]
  },
  {
   "cell_type": "code",
   "execution_count": 16,
   "metadata": {},
   "outputs": [
    {
     "data": {
      "text/html": [
       "<div>\n",
       "<style>\n",
       "    .dataframe thead tr:only-child th {\n",
       "        text-align: right;\n",
       "    }\n",
       "\n",
       "    .dataframe thead th {\n",
       "        text-align: left;\n",
       "    }\n",
       "\n",
       "    .dataframe tbody tr th {\n",
       "        vertical-align: top;\n",
       "    }\n",
       "</style>\n",
       "<table border=\"1\" class=\"dataframe\">\n",
       "  <thead>\n",
       "    <tr style=\"text-align: right;\">\n",
       "      <th></th>\n",
       "      <th>Attrition</th>\n",
       "      <th>Trans_Amt_Oct12</th>\n",
       "      <th>Trans_Amt_Nov12</th>\n",
       "      <th>Trans_Amt_Dec12</th>\n",
       "      <th>Trans_Amt_Jan13</th>\n",
       "      <th>Trans_Amt_Feb13</th>\n",
       "      <th>Trans_Amt_Mar13</th>\n",
       "    </tr>\n",
       "  </thead>\n",
       "  <tbody>\n",
       "    <tr>\n",
       "      <th>0</th>\n",
       "      <td>0</td>\n",
       "      <td>24</td>\n",
       "      <td>36</td>\n",
       "      <td>427</td>\n",
       "      <td>385</td>\n",
       "      <td>493</td>\n",
       "      <td>319</td>\n",
       "    </tr>\n",
       "    <tr>\n",
       "      <th>1</th>\n",
       "      <td>0</td>\n",
       "      <td>68</td>\n",
       "      <td>227</td>\n",
       "      <td>221</td>\n",
       "      <td>23</td>\n",
       "      <td>232</td>\n",
       "      <td>63</td>\n",
       "    </tr>\n",
       "    <tr>\n",
       "      <th>2</th>\n",
       "      <td>0</td>\n",
       "      <td>339</td>\n",
       "      <td>402</td>\n",
       "      <td>489</td>\n",
       "      <td>375</td>\n",
       "      <td>393</td>\n",
       "      <td>125</td>\n",
       "    </tr>\n",
       "    <tr>\n",
       "      <th>3</th>\n",
       "      <td>0</td>\n",
       "      <td>298</td>\n",
       "      <td>111</td>\n",
       "      <td>232</td>\n",
       "      <td>127</td>\n",
       "      <td>315</td>\n",
       "      <td>246</td>\n",
       "    </tr>\n",
       "    <tr>\n",
       "      <th>4</th>\n",
       "      <td>1</td>\n",
       "      <td>109</td>\n",
       "      <td>243</td>\n",
       "      <td>179</td>\n",
       "      <td>153</td>\n",
       "      <td>257</td>\n",
       "      <td>327</td>\n",
       "    </tr>\n",
       "  </tbody>\n",
       "</table>\n",
       "</div>"
      ],
      "text/plain": [
       "   Attrition  Trans_Amt_Oct12   Trans_Amt_Nov12   Trans_Amt_Dec12   \\\n",
       "0          0                24                36               427   \n",
       "1          0                68               227               221   \n",
       "2          0               339               402               489   \n",
       "3          0               298               111               232   \n",
       "4          1               109               243               179   \n",
       "\n",
       "   Trans_Amt_Jan13   Trans_Amt_Feb13   Trans_Amt_Mar13   \n",
       "0               385               493               319  \n",
       "1                23               232                63  \n",
       "2               375               393               125  \n",
       "3               127               315               246  \n",
       "4               153               257               327  "
      ]
     },
     "execution_count": 16,
     "metadata": {},
     "output_type": "execute_result"
    }
   ],
   "source": [
    "credit=pd.DataFrame(df1)\n",
    "credit.head()"
   ]
  },
  {
   "cell_type": "code",
   "execution_count": 17,
   "metadata": {},
   "outputs": [
    {
     "name": "stdout",
     "output_type": "stream",
     "text": [
      "0     0\n",
      "1     0\n",
      "2     0\n",
      "3     0\n",
      "4     1\n",
      "5     1\n",
      "6     0\n",
      "7     0\n",
      "8     0\n",
      "9     0\n",
      "10    0\n",
      "11    1\n",
      "12    1\n",
      "13    0\n",
      "14    0\n",
      "15    0\n",
      "16    0\n",
      "17    1\n",
      "18    1\n",
      "19    0\n",
      "20    0\n",
      "21    0\n",
      "22    0\n",
      "23    0\n",
      "24    0\n",
      "25    0\n",
      "26    0\n",
      "27    0\n",
      "28    1\n",
      "Name: Attrition, dtype: int64\n"
     ]
    }
   ],
   "source": [
    "Y=credit['Attrition']\n",
    "print(Y)"
   ]
  },
  {
   "cell_type": "code",
   "execution_count": 19,
   "metadata": {},
   "outputs": [
    {
     "name": "stdout",
     "output_type": "stream",
     "text": [
      "    Trans_Amt_Oct12   Trans_Amt_Nov12   Trans_Amt_Dec12   Trans_Amt_Jan13   \\\n",
      "0                 24                36               427               385   \n",
      "1                 68               227               221                23   \n",
      "2                339               402               489               375   \n",
      "3                298               111               232               127   \n",
      "4                109               243               179               153   \n",
      "5                483               201               371               167   \n",
      "6                494               458               211               457   \n",
      "7                246               204               185               111   \n",
      "8                284               312               444               238   \n",
      "9                301               240               119                94   \n",
      "10               217                89               432               106   \n",
      "11                61               114               346               237   \n",
      "12               439               230               249               269   \n",
      "13               102               324               321                43   \n",
      "14               333               281               140               170   \n",
      "15               216               279                66               109   \n",
      "16               161                12                77               167   \n",
      "17                73               294               260                12   \n",
      "18               421               398               488               455   \n",
      "19               245                49               380               129   \n",
      "20               300               265               313               286   \n",
      "21                82               128               216               486   \n",
      "22               496               186               197               272   \n",
      "23               188               442                88                71   \n",
      "24               123               226               288               301   \n",
      "25                93               355               454                83   \n",
      "26               428               136               419               126   \n",
      "27               126               377                19               356   \n",
      "28               411               365               359               327   \n",
      "\n",
      "    Trans_Amt_Feb13   Trans_Amt_Mar13   \n",
      "0                493               319  \n",
      "1                232                63  \n",
      "2                393               125  \n",
      "3                315               246  \n",
      "4                257               327  \n",
      "5                296               420  \n",
      "6                 24               115  \n",
      "7                 15                67  \n",
      "8                195               374  \n",
      "9                176                45  \n",
      "10                67               430  \n",
      "11                81                45  \n",
      "12               293               259  \n",
      "13               221               182  \n",
      "14               256               401  \n",
      "15                 4               320  \n",
      "16               432                90  \n",
      "17               220                 3  \n",
      "18               181               158  \n",
      "19                84               100  \n",
      "20               406               229  \n",
      "21                63                87  \n",
      "22               482               420  \n",
      "23               458               205  \n",
      "24               268               118  \n",
      "25               488               185  \n",
      "26               302                70  \n",
      "27               496               100  \n",
      "28               411               174  \n"
     ]
    }
   ],
   "source": [
    "X=credit.drop('Attrition', axis=1)\n",
    "print(X)"
   ]
  },
  {
   "cell_type": "code",
   "execution_count": 20,
   "metadata": {},
   "outputs": [
    {
     "data": {
      "text/plain": [
       "LogisticRegression(C=1.0, class_weight=None, dual=False, fit_intercept=True,\n",
       "          intercept_scaling=1, max_iter=100, multi_class='ovr', n_jobs=1,\n",
       "          penalty='l2', random_state=None, solver='liblinear', tol=0.0001,\n",
       "          verbose=0, warm_start=False)"
      ]
     },
     "execution_count": 20,
     "metadata": {},
     "output_type": "execute_result"
    }
   ],
   "source": [
    "logistic = LogisticRegression()\n",
    "logistic.fit(X,Y)"
   ]
  },
  {
   "cell_type": "code",
   "execution_count": 21,
   "metadata": {},
   "outputs": [
    {
     "data": {
      "text/plain": [
       "array([0, 0, 0, 0, 0, 0, 0, 0, 0, 0, 0, 0, 0, 0, 0, 0, 0, 0, 0, 0, 0, 0, 0,\n",
       "       0, 0, 0, 0, 0, 0], dtype=int64)"
      ]
     },
     "execution_count": 21,
     "metadata": {},
     "output_type": "execute_result"
    }
   ],
   "source": [
    "logistic.predict(X)"
   ]
  },
  {
   "cell_type": "code",
   "execution_count": 23,
   "metadata": {},
   "outputs": [],
   "source": [
    "import statsmodels.api as sm\n",
    "logit = sm.Logit(Y,X)\n"
   ]
  },
  {
   "cell_type": "code",
   "execution_count": 24,
   "metadata": {},
   "outputs": [
    {
     "name": "stdout",
     "output_type": "stream",
     "text": [
      "Optimization terminated successfully.\n",
      "         Current function value: 0.565591\n",
      "         Iterations 5\n"
     ]
    }
   ],
   "source": [
    "result = logit.fit()"
   ]
  },
  {
   "cell_type": "code",
   "execution_count": 26,
   "metadata": {},
   "outputs": [
    {
     "name": "stdout",
     "output_type": "stream",
     "text": [
      "                           Logit Regression Results                           \n",
      "==============================================================================\n",
      "Dep. Variable:              Attrition   No. Observations:                   29\n",
      "Model:                          Logit   Df Residuals:                       23\n",
      "Method:                           MLE   Df Model:                            5\n",
      "Date:                Sun, 13 Aug 2017   Pseudo R-squ.:                -0.02339\n",
      "Time:                        10:16:34   Log-Likelihood:                -16.402\n",
      "converged:                       True   LL-Null:                       -16.027\n",
      "                                        LLR p-value:                     1.000\n",
      "====================================================================================\n",
      "                       coef    std err          z      P>|z|      [0.025      0.975]\n",
      "------------------------------------------------------------------------------------\n",
      "Trans_Amt_Oct12      0.0010      0.003      0.301      0.763      -0.006       0.008\n",
      "Trans_Amt_Nov12     -0.0009      0.003     -0.267      0.790      -0.008       0.006\n",
      "Trans_Amt_Dec12      0.0007      0.003      0.219      0.827      -0.005       0.006\n",
      "Trans_Amt_Jan13     -0.0009      0.003     -0.271      0.786      -0.007       0.006\n",
      "Trans_Amt_Feb13     -0.0025      0.003     -0.884      0.377      -0.008       0.003\n",
      "Trans_Amt_Mar13     -0.0020      0.003     -0.575      0.565      -0.009       0.005\n",
      "====================================================================================\n"
     ]
    }
   ],
   "source": [
    "print (result.summary())"
   ]
  },
  {
   "cell_type": "markdown",
   "metadata": {},
   "source": [
    "Compute Odds Ratio "
   ]
  },
  {
   "cell_type": "code",
   "execution_count": 31,
   "metadata": {},
   "outputs": [
    {
     "name": "stdout",
     "output_type": "stream",
     "text": [
      "Trans_Amt_Oct12     1.001011\n",
      "Trans_Amt_Nov12     0.999074\n",
      "Trans_Amt_Dec12     1.000651\n",
      "Trans_Amt_Jan13     0.999101\n",
      "Trans_Amt_Feb13     0.997545\n",
      "Trans_Amt_Mar13     0.998032\n",
      "dtype: float64\n"
     ]
    }
   ],
   "source": [
    "print (np.exp(result.params))"
   ]
  },
  {
   "cell_type": "code",
   "execution_count": null,
   "metadata": {
    "collapsed": true
   },
   "outputs": [],
   "source": []
  }
 ],
 "metadata": {
  "kernelspec": {
   "display_name": "Python 3",
   "language": "python",
   "name": "python3"
  },
  "language_info": {
   "codemirror_mode": {
    "name": "ipython",
    "version": 3
   },
   "file_extension": ".py",
   "mimetype": "text/x-python",
   "name": "python",
   "nbconvert_exporter": "python",
   "pygments_lexer": "ipython3",
   "version": "3.6.1"
  }
 },
 "nbformat": 4,
 "nbformat_minor": 2
}

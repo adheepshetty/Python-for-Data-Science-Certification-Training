{
 "cells": [
  {
   "cell_type": "markdown",
   "metadata": {
    "deletable": true,
    "editable": true
   },
   "source": [
    "Assignment 1. Write a for-loop that iterates over start_list and .append()s each number cubed (x ** 3) to cubed_list.\n",
    "1.Then sort cubed_list! Given: start_list = [5, 3, 1, 2, 4]\n"
   ]
  },
  {
   "cell_type": "code",
   "execution_count": 22,
   "metadata": {
    "collapsed": false,
    "deletable": true,
    "editable": true
   },
   "outputs": [
    {
     "name": "stdout",
     "output_type": "stream",
     "text": [
      "[1, 8, 27, 64, 125]\n"
     ]
    }
   ],
   "source": [
    "start_list = [5, 3, 1, 2, 4]\n",
    "cubed_list = []\n",
    "# cubed_list = list()\n",
    "for i in start_list:\n",
    "    cubed_list.append(i**3)\n",
    "    cubed_list.sort()\n",
    "print (cubed_list)"
   ]
  },
  {
   "cell_type": "markdown",
   "metadata": {
    "deletable": true,
    "editable": true
   },
   "source": [
    "Assignment 2. Define a function called join_strings accepts an argument called words. It will be a\n",
    "list.\n",
    "2. Inside the function, create a variable called result and set it to \"\", an empty string.\n",
    "3. Iterate through the words list and append each word to result.\n",
    "4. Finally, return the result."
   ]
  },
  {
   "cell_type": "code",
   "execution_count": 1,
   "metadata": {
    "collapsed": false,
    "deletable": true,
    "editable": true
   },
   "outputs": [
    {
     "name": "stdout",
     "output_type": "stream",
     "text": [
      "Rahul\n",
      "Rahul\n"
     ]
    }
   ],
   "source": [
    "n = [\"Rahul\", \"Sharma\"]\n",
    "def join_strings(words):\n",
    "    result = \"\"\n",
    "    for i in range(len(words)):\n",
    "            result = result + words[i]\n",
    "            print (result)\n",
    "            return result\n",
    "print (join_strings(n))"
   ]
  },
  {
   "cell_type": "markdown",
   "metadata": {
    "deletable": true,
    "editable": true
   },
   "source": [
    "Assignment 3: Create a function that joins two lists together.\n",
    "1. Create two lists a and b\n",
    "2. Define a function called join_lists that has two arguments, x and y. They will both be\n",
    "lists.\n",
    "3. Inside that function, return the result of concatenating x and y together.\n",
    "4. Print the concatenated list after returning it from the join_lists function"
   ]
  },
  {
   "cell_type": "code",
   "execution_count": 10,
   "metadata": {
    "collapsed": false,
    "deletable": true,
    "editable": true
   },
   "outputs": [
    {
     "name": "stdout",
     "output_type": "stream",
     "text": [
      "[1, 2, 3, 4, 5, 6]\n"
     ]
    }
   ],
   "source": [
    "a = [1, 2, 3]\n",
    "b = [4, 5, 6]\n",
    "def join_lists(x, y):\n",
    "    z = x + y\n",
    "    return z\n",
    "print (join_lists(a, b))"
   ]
  },
  {
   "cell_type": "markdown",
   "metadata": {
    "deletable": true,
    "editable": true
   },
   "source": [
    "Assignment 4: Create a function called listconc that takes a single list and concatenates all the sublists that\n",
    "are part of it into a single list.\n",
    "1. Define a function called listconc with one argument called n.\n",
    "2. Make a new, empty list called conc.\n",
    "3. Iterate through n. Call the looping variable item.\n",
    "4. Iterate through item.\n",
    "5. For each number, .append() it to conc.\n",
    "6. Finally, return conc from your function."
   ]
  },
  {
   "cell_type": "code",
   "execution_count": 13,
   "metadata": {
    "collapsed": false,
    "deletable": true,
    "editable": true
   },
   "outputs": [
    {
     "name": "stdout",
     "output_type": "stream",
     "text": [
      "[0, 1, 2, 3, 5, 6, 7, 8, 9]\n"
     ]
    }
   ],
   "source": [
    "n = [[0,1, 2, 3], [5, 6, 7, 8, 9]]\n",
    "def listconc(n):\n",
    "    conc = list()\n",
    "    for item in n:\n",
    "        for i in item:\n",
    "            conc.append(i)\n",
    "    return conc\n",
    "print (listconc(n))"
   ]
  },
  {
   "cell_type": "markdown",
   "metadata": {
    "deletable": true,
    "editable": true
   },
   "source": [
    "Assignmnet 5: Create a while loop that prints out all the numbers from 1 to 10 squared (1, 4, 9, 16, ... , 100),\n",
    "each on their own line."
   ]
  },
  {
   "cell_type": "code",
   "execution_count": 14,
   "metadata": {
    "collapsed": false,
    "deletable": true,
    "editable": true
   },
   "outputs": [
    {
     "name": "stdout",
     "output_type": "stream",
     "text": [
      "1\n",
      "4\n",
      "9\n",
      "16\n",
      "25\n",
      "36\n",
      "49\n",
      "64\n",
      "81\n",
      "100\n"
     ]
    }
   ],
   "source": [
    "num = 1\n",
    "while ( num <= 10):\n",
    "    print (num**2)\n",
    "    num+=1"
   ]
  }
 ],
 "metadata": {
  "kernelspec": {
   "display_name": "Python 3",
   "language": "python",
   "name": "python3"
  },
  "language_info": {
   "codemirror_mode": {
    "name": "ipython",
    "version": 3
   },
   "file_extension": ".py",
   "mimetype": "text/x-python",
   "name": "python",
   "nbconvert_exporter": "python",
   "pygments_lexer": "ipython3",
   "version": "3.5.2"
  }
 },
 "nbformat": 4,
 "nbformat_minor": 2
}

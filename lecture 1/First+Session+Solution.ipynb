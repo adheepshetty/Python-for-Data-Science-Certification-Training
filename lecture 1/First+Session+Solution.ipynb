{
 "cells": [
  {
   "cell_type": "code",
   "execution_count": 13,
   "metadata": {
    "collapsed": false,
    "deletable": true,
    "editable": true
   },
   "outputs": [
    {
     "name": "stdout",
     "output_type": "stream",
     "text": [
      "54.6293125\n",
      "54.629\n"
     ]
    }
   ],
   "source": [
    "#Lab 1 Solution\n",
    "meal = 44.50\n",
    "tax = 0.0675\n",
    "tip = 0.15\n",
    "meal = meal + meal * tax\n",
    "total = meal + meal * tip\n",
    "print(total)\n",
    "print(\"%.3f\" % total)"
   ]
  },
  {
   "cell_type": "code",
   "execution_count": 4,
   "metadata": {
    "collapsed": false,
    "deletable": true,
    "editable": true
   },
   "outputs": [
    {
     "name": "stdout",
     "output_type": "stream",
     "text": [
      "8\n",
      "WHO AM I\n"
     ]
    }
   ],
   "source": [
    "#Lab 2 Solution\n",
    "your_string = \"Who am I\"\n",
    "print (len(your_string))\n",
    "print (your_string.upper())"
   ]
  },
  {
   "cell_type": "code",
   "execution_count": 5,
   "metadata": {
    "collapsed": false,
    "deletable": true,
    "editable": true
   },
   "outputs": [
    {
     "name": "stdout",
     "output_type": "stream",
     "text": [
      "str1 + str2 =  HelloWorld!\n",
      "str1 * 2 = HelloHello\n"
     ]
    }
   ],
   "source": [
    "#Lab 3 Solution\n",
    "str1 = 'Hello'\n",
    "str2 ='World!'\n",
    "# using +\n",
    "print('str1 + str2 = ', str1 + str2)\n",
    "# using *\n",
    "print('str1 * 2 =', str1 * 2)"
   ]
  },
  {
   "cell_type": "code",
   "execution_count": 7,
   "metadata": {
    "collapsed": false,
    "deletable": true,
    "editable": true
   },
   "outputs": [
    {
     "name": "stdout",
     "output_type": "stream",
     "text": [
      "False\n"
     ]
    }
   ],
   "source": [
    "#Lab4 Solution\n",
    "def cube(num):\n",
    "    return num**3\n",
    "def cube_check(num):\n",
    "    if num % 3 == 0:\n",
    "        return cube(num)\n",
    "    else:\n",
    "        return False\n",
    "print (cube_check(5))"
   ]
  },
  {
   "cell_type": "code",
   "execution_count": 14,
   "metadata": {
    "collapsed": false,
    "deletable": true,
    "editable": true
   },
   "outputs": [
    {
     "name": "stdout",
     "output_type": "stream",
     "text": [
      "216\n"
     ]
    }
   ],
   "source": [
    "print (cube_check(6))"
   ]
  }
 ],
 "metadata": {
  "kernelspec": {
   "display_name": "Python 3",
   "language": "python",
   "name": "python3"
  },
  "language_info": {
   "codemirror_mode": {
    "name": "ipython",
    "version": 3
   },
   "file_extension": ".py",
   "mimetype": "text/x-python",
   "name": "python",
   "nbconvert_exporter": "python",
   "pygments_lexer": "ipython3",
   "version": "3.5.2"
  }
 },
 "nbformat": 4,
 "nbformat_minor": 2
}

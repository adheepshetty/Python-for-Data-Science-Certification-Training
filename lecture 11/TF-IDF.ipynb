{
 "cells": [
  {
   "cell_type": "code",
   "execution_count": 23,
   "metadata": {},
   "outputs": [
    {
     "name": "stdout",
     "output_type": "stream",
     "text": [
      "0.14285714285714285 0.6931471805599453 0.09902102579427789\n"
     ]
    }
   ],
   "source": [
    "from textblob import TextBlob\n",
    "import math\n",
    "\n",
    "def tf(word, blob):\n",
    "       return blob.words.count(word) / len(blob.words)\n",
    "\n",
    "def n_containing(word, bloblist):\n",
    "    return 1 + sum(1 for blob in bloblist if word in blob)\n",
    "\n",
    "def idf(word, bloblist):\n",
    "   return math.log(float(1+len(bloblist)) / float(n_containing(word,bloblist)))\n",
    "\n",
    "def tfidf(word, blob, bloblist):\n",
    "   return tf(word, blob) * idf(word, bloblist)\n",
    "\n",
    "text = 'tf–idf, short for term frequency–inverse document frequency'\n",
    "text2 = 'is a numerical statistic that is intended to reflect how important'\n",
    "text3 = 'a word is to a document in a collection or corpus'\n",
    "\n",
    "blob = TextBlob(text)\n",
    "blob2 = TextBlob(text2)\n",
    "blob3 = TextBlob(text3)\n",
    "bloblist = [blob, blob2, blob3]\n",
    "tf_score = tf('term', blob)\n",
    "idf_score = idf('term', bloblist)\n",
    "tfidf_score = tfidf('term', blob, bloblist)\n",
    "print (tf_score, idf_score, tfidf_score)"
   ]
  },
  {
   "cell_type": "code",
   "execution_count": 4,
   "metadata": {},
   "outputs": [
    {
     "name": "stdout",
     "output_type": "stream",
     "text": [
      "  (0, 15)\t0.183800451005\n",
      "  (0, 40)\t0.150718999126\n",
      "  (0, 1)\t0.311201215405\n",
      "  (0, 75)\t0.240353566526\n",
      "  (0, 27)\t0.183800451005\n",
      "  (0, 76)\t0.240353566526\n",
      "  (0, 49)\t0.127247335483\n",
      "  (0, 38)\t0.240353566526\n",
      "  (0, 14)\t0.183800451005\n",
      "  (0, 64)\t0.240353566526\n",
      "  (0, 58)\t0.240353566526\n",
      "  (0, 46)\t0.240353566526\n",
      "  (0, 60)\t0.240353566526\n",
      "  (0, 50)\t0.240353566526\n",
      "  (0, 23)\t0.240353566526\n",
      "  (0, 37)\t0.240353566526\n",
      "  (0, 35)\t0.240353566526\n",
      "  (0, 77)\t0.109041298744\n",
      "  (0, 84)\t0.240353566526\n",
      "  (0, 29)\t0.240353566526\n",
      "  (1, 15)\t0.221455719625\n",
      "  (1, 14)\t0.221455719625\n",
      "  (1, 52)\t0.28959489353\n",
      "  (1, 71)\t0.221455719625\n",
      "  (1, 72)\t0.221455719625\n",
      "  :\t:\n",
      "  (5, 67)\t0.240268286757\n",
      "  (5, 85)\t0.240268286757\n",
      "  (5, 32)\t0.240268286757\n",
      "  (5, 8)\t0.240268286757\n",
      "  (5, 21)\t0.240268286757\n",
      "  (6, 1)\t0.168765238111\n",
      "  (6, 49)\t0.197824388826\n",
      "  (6, 71)\t0.168765238111\n",
      "  (6, 72)\t0.168765238111\n",
      "  (6, 5)\t0.168765238111\n",
      "  (6, 89)\t0.285744387085\n",
      "  (6, 63)\t0.285744387085\n",
      "  (6, 92)\t0.168765238111\n",
      "  (6, 31)\t0.168765238111\n",
      "  (6, 65)\t0.373664385344\n",
      "  (6, 44)\t0.2206922054\n",
      "  (6, 47)\t0.2206922054\n",
      "  (6, 22)\t0.2206922054\n",
      "  (6, 9)\t0.2206922054\n",
      "  (6, 74)\t0.2206922054\n",
      "  (6, 78)\t0.2206922054\n",
      "  (6, 0)\t0.2206922054\n",
      "  (6, 45)\t0.2206922054\n",
      "  (6, 41)\t0.2206922054\n",
      "  (6, 19)\t0.2206922054\n"
     ]
    }
   ],
   "source": [
    "#in Scikit-Learn\n",
    "from sklearn.feature_extraction.text import TfidfVectorizer\n",
    "\n",
    "sklearn_tfidf = TfidfVectorizer(norm='l2',min_df=0, use_idf=True, smooth_idf=False, sublinear_tf=True, tokenizer=tokenize)\n",
    "sklearn_representation = sklearn_tfidf.fit_transform(all_documents)\n",
    "print(sklearn_representation)\n",
    "\n"
   ]
  }
 ],
 "metadata": {
  "kernelspec": {
   "display_name": "Python 3",
   "language": "python",
   "name": "python3"
  },
  "language_info": {
   "codemirror_mode": {
    "name": "ipython",
    "version": 3
   },
   "file_extension": ".py",
   "mimetype": "text/x-python",
   "name": "python",
   "nbconvert_exporter": "python",
   "pygments_lexer": "ipython3",
   "version": "3.6.1"
  }
 },
 "nbformat": 4,
 "nbformat_minor": 2
}
